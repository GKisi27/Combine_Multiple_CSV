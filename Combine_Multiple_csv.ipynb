{
 "cells": [
  {
   "cell_type": "code",
   "execution_count": 1,
   "metadata": {},
   "outputs": [],
   "source": [
    "import os\n",
    "import glob\n",
    "import pandas as pdlib"
   ]
  },
  {
   "cell_type": "code",
   "execution_count": 3,
   "metadata": {},
   "outputs": [],
   "source": [
    "colnames = [\"QUESTION\", \"OPTION A\", \"OPTION B\", \"OPTION C\", \"OPTION D\", \"CORRECT ANSWER\"]#Add column names here.\n",
    "# Produce a single CSV after combining all files\n",
    "def produceOneCSV(list_of_files, file_out):\n",
    "   # Consolidate all CSV files into one object\n",
    "   result_obj = pdlib.concat([pdlib.read_csv(file) for file in list_of_files])\n",
    "   result_obj.columns = colnames\n",
    "   # Convert the above object into a csv file and export\n",
    "   result_obj.to_csv(file_out, index=False, encoding=\"utf-8\")"
   ]
  },
  {
   "cell_type": "code",
   "execution_count": 4,
   "metadata": {},
   "outputs": [
    {
     "data": {
      "text/plain": [
       "'C:\\\\Users\\\\Promech-PC-5\\\\Desktop\\\\MCQ\\\\PhysicsMCQ\\\\ClassEleven'"
      ]
     },
     "execution_count": 4,
     "metadata": {},
     "output_type": "execute_result"
    }
   ],
   "source": [
    "# Move to the path that holds our CSV files\n",
    "csv_file_path = 'C:\\\\Users\\Promech-PC-5\\Desktop\\MCQ\\PhysicsMCQ\\ClassEleven'#Change path to your files location\n",
    "os.chdir(csv_file_path)\n",
    "os.getcwd()\n"
   ]
  },
  {
   "cell_type": "code",
   "execution_count": 5,
   "metadata": {},
   "outputs": [],
   "source": [
    "# List all CSV files in the working dir\n",
    "list_of_files = glob.glob(\"*.csv\")\n",
    "# print(list_of_files)"
   ]
  },
  {
   "cell_type": "code",
   "execution_count": 6,
   "metadata": {},
   "outputs": [],
   "source": [
    "file_out = \"Combined.csv\"#Output file\n",
    "produceOneCSV(list_of_files, file_out)"
   ]
  },
  {
   "cell_type": "code",
   "execution_count": null,
   "metadata": {},
   "outputs": [],
   "source": []
  }
 ],
 "metadata": {
  "kernelspec": {
   "display_name": "Python 3",
   "language": "python",
   "name": "python3"
  },
  "language_info": {
   "codemirror_mode": {
    "name": "ipython",
    "version": 3
   },
   "file_extension": ".py",
   "mimetype": "text/x-python",
   "name": "python",
   "nbconvert_exporter": "python",
   "pygments_lexer": "ipython3",
   "version": "3.7.3"
  }
 },
 "nbformat": 4,
 "nbformat_minor": 2
}
